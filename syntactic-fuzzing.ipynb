{
 "cells": [
  {
   "cell_type": "markdown",
   "id": "4af3bb89-1b03-4d5e-a344-057ffd207393",
   "metadata": {},
   "source": [
    "<div align=\"right\"><i>Бронников Егор</i></p>"
   ]
  },
  {
   "cell_type": "markdown",
   "id": "70e2f27b-b0ac-46b3-9b0d-b62d049e4c78",
   "metadata": {},
   "source": [
    "# Лабораторная работа №3"
   ]
  },
  {
   "cell_type": "markdown",
   "id": "11186ba0-d508-4c67-ba33-b278c4c7d281",
   "metadata": {},
   "source": [
    "## Импорты"
   ]
  },
  {
   "cell_type": "code",
   "execution_count": 1,
   "id": "46420aae-e557-46f7-b31a-48bde7c8cd8e",
   "metadata": {},
   "outputs": [],
   "source": [
    "from enum import Enum\n",
    "from random import randint, choice, choices\n",
    "from typing import Callable, Any, Self\n",
    "from collections import defaultdict\n",
    "from sys import settrace, maxsize\n",
    "from types import FrameType\n",
    "from inspect import getsourcelines, getmodule, getmembers, isfunction\n",
    "from math import pow\n",
    "from string import printable\n",
    "from ast import NodeVisitor, FunctionDef, Call, Name, Attribute, parse\n",
    "from abc import ABC, abstractmethod\n",
    "from statistics import mean\n",
    "from re import compile\n",
    "from concurrent.futures import ThreadPoolExecutor, TimeoutError\n",
    "from copy import deepcopy\n",
    "from json import dumps, JSONDecodeError\n",
    "\n",
    "import matplotlib.pyplot as plt\n",
    "from tqdm.notebook import tqdm\n",
    "\n",
    "from antlr4 import TerminalNode, CommonTokenStream, InputStream\n",
    "from antlr4.Parser import Parser\n",
    "from antlr_json.JSONLexer import JSONLexer\n",
    "from antlr_json.JSONParser import JSONParser"
   ]
  },
  {
   "cell_type": "code",
   "execution_count": 2,
   "id": "0d42abc2-4dfe-43ff-a545-acb56ae247e3",
   "metadata": {},
   "outputs": [],
   "source": [
    "from json import loads as json_loads\n",
    "\n",
    "from custom_json_parse import parse as custom_parse\n",
    "from failed_custom_json_parse import parse as failed_parse"
   ]
  },
  {
   "cell_type": "markdown",
   "id": "e0b37ccc-045f-44f1-9b45-0b2ad787943c",
   "metadata": {},
   "source": [
    "## Greybox Grammar Fuzzer"
   ]
  },
  {
   "cell_type": "markdown",
   "id": "1159aa7b-458a-4c12-b5de-47e5502cc790",
   "metadata": {},
   "source": [
    "Функции для работы с грамматикой"
   ]
  },
  {
   "cell_type": "code",
   "execution_count": 3,
   "id": "1d724c28-e6e1-4031-8b89-a17480152476",
   "metadata": {},
   "outputs": [],
   "source": [
    "RE_NONTERMINAL = compile(r\"<[^<> ]*>\")"
   ]
  },
  {
   "cell_type": "code",
   "execution_count": 4,
   "id": "a92a3d32-60f7-4373-8e1b-fc1f6bfc7394",
   "metadata": {},
   "outputs": [],
   "source": [
    "def non_terminals(expansion: str | list[str]) -> list[str]:\n",
    "    if isinstance(expansion, list):\n",
    "        expansion = expansion[0]\n",
    "\n",
    "    return RE_NONTERMINAL.findall(expansion)"
   ]
  },
  {
   "cell_type": "code",
   "execution_count": 5,
   "id": "4fd7714e-c6fb-4958-a799-75176bc46cf8",
   "metadata": {},
   "outputs": [],
   "source": [
    "def is_non_terminal(expansion: str) -> bool:\n",
    "    return RE_NONTERMINAL.match(expansion) is not None"
   ]
  },
  {
   "cell_type": "markdown",
   "id": "9b62d743-b8d0-48e4-b7fe-665b0ef502ce",
   "metadata": {},
   "source": [
    "`Tracer` – класс для отслеживания выполнения программы"
   ]
  },
  {
   "cell_type": "code",
   "execution_count": 6,
   "id": "f52c40ff-2756-448e-96dd-e06cc24c024f",
   "metadata": {},
   "outputs": [],
   "source": [
    "class Tracer:\n",
    "    def __init__(self: Self) -> None:\n",
    "        self.called_functions = set()\n",
    "        self.executed_lines = set()\n",
    "\n",
    "    def reset(self: Self) -> None:\n",
    "        self.called_functions.clear()\n",
    "        self.executed_lines.clear()\n",
    "\n",
    "    def trace_lines(self: Self, frame: FrameType, event: str, arg: Any) -> None:\n",
    "        if event != \"line\":\n",
    "            return\n",
    "        self.executed_lines.add(frame.f_lineno)\n",
    "\n",
    "    def trace_calls(self: Self, frame: FrameType, event: str, arg: Any) -> FrameType | None:\n",
    "        if event != \"call\":\n",
    "            return\n",
    "        func_name = frame.f_code.co_name\n",
    "        self.called_functions.add(func_name)\n",
    "        return self.trace_lines\n",
    "    \n",
    "    def trace(self: Self, function: Callable[..., Any], *args, **kwargs) -> Any:\n",
    "        self.reset()\n",
    "        settrace(self.trace_calls)\n",
    "        result = function(*args, **kwargs)\n",
    "        settrace(None)\n",
    "        return result"
   ]
  },
  {
   "cell_type": "markdown",
   "id": "1ed9be2b-a6e4-412d-925e-591619fd7abe",
   "metadata": {},
   "source": [
    "__Примеры__"
   ]
  },
  {
   "cell_type": "code",
   "execution_count": 7,
   "id": "382b82b7-3b16-4dab-a3d9-017374dd3b84",
   "metadata": {},
   "outputs": [],
   "source": [
    "tracer = Tracer()"
   ]
  },
  {
   "cell_type": "code",
   "execution_count": 8,
   "id": "db5288c0-7fe2-4ea6-a537-8255c3d5128d",
   "metadata": {},
   "outputs": [
    {
     "data": {
      "text/plain": [
       "{'abc': 123}"
      ]
     },
     "execution_count": 8,
     "metadata": {},
     "output_type": "execute_result"
    }
   ],
   "source": [
    "valid_json = '{\"abc\": 123}'\n",
    "tracer.trace(custom_parse, valid_json)"
   ]
  },
  {
   "cell_type": "code",
   "execution_count": 9,
   "id": "3129e025-395e-47f5-83ac-729e8001cc42",
   "metadata": {},
   "outputs": [
    {
     "name": "stdout",
     "output_type": "stream",
     "text": [
      "{'_skip_whitespace', 'parse', '_parse_value', '_parse_number', '_parse_object', '_parse_string'}\n"
     ]
    }
   ],
   "source": [
    "print(tracer.called_functions)"
   ]
  },
  {
   "cell_type": "code",
   "execution_count": 10,
   "id": "fb43d6d6-b761-4ab6-a82a-448dfee37551",
   "metadata": {},
   "outputs": [
    {
     "name": "stdout",
     "output_type": "stream",
     "text": [
      "{8, 9, 10, 13, 15, 17, 18, 19, 21, 22, 33, 34, 36, 39, 40, 42, 43, 46, 49, 50, 51, 53, 56, 57, 58, 59, 61, 63, 65, 66, 67, 69, 70, 71, 99, 100}\n"
     ]
    }
   ],
   "source": [
    "print(tracer.executed_lines)"
   ]
  },
  {
   "cell_type": "markdown",
   "id": "86e466e5-e7da-431e-ba4e-092bc1c0e4be",
   "metadata": {},
   "source": [
    "`CoverageTracker` – класс для отслеживания покрытия"
   ]
  },
  {
   "cell_type": "code",
   "execution_count": 11,
   "id": "861ddbc4-ddb1-47e8-924a-3843fc86b164",
   "metadata": {},
   "outputs": [],
   "source": [
    "class CoverageTacker:\n",
    "    def __init__(self: Self, *, function: Callable[..., Any]) -> None:\n",
    "        self.function = function\n",
    "\n",
    "        self.covered_lines = set()\n",
    "        self.tracer = Tracer()\n",
    "\n",
    "        lines, start_line_number = getsourcelines(getmodule(self.function))\n",
    "        self.lines = set(range(start_line_number + 1, start_line_number + len(lines) + 2))\n",
    "\n",
    "    def reset(self: Self) -> None:\n",
    "        self.covered_lines.clear()\n",
    "\n",
    "    def run_with_args(self: Self, *args, **kwargs) -> Any:\n",
    "        self.reset()\n",
    "        result = self.tracer.trace(self.function, *args, **kwargs)\n",
    "        self.covered_lines = self.tracer.executed_lines\n",
    "        return result"
   ]
  },
  {
   "cell_type": "markdown",
   "id": "ca14194a-c499-4a68-a417-3782bd150bce",
   "metadata": {},
   "source": [
    "__Пример__"
   ]
  },
  {
   "cell_type": "code",
   "execution_count": 12,
   "id": "6fb83438-9711-44b3-b15b-42bfe1d40ebf",
   "metadata": {},
   "outputs": [],
   "source": [
    "coverage_tracker = CoverageTacker(function=custom_parse)"
   ]
  },
  {
   "cell_type": "code",
   "execution_count": 13,
   "id": "c86c1d26-6eda-4393-87a3-f6f7c3e8a2be",
   "metadata": {},
   "outputs": [
    {
     "data": {
      "text/plain": [
       "{'abc': 123}"
      ]
     },
     "execution_count": 13,
     "metadata": {},
     "output_type": "execute_result"
    }
   ],
   "source": [
    "coverage_tracker.run_with_args(valid_json)"
   ]
  },
  {
   "cell_type": "code",
   "execution_count": 14,
   "id": "5fb7a6ff-d5c2-4435-970e-a1fac7e5bc8f",
   "metadata": {},
   "outputs": [
    {
     "name": "stdout",
     "output_type": "stream",
     "text": [
      "{8, 9, 10, 13, 15, 17, 18, 19, 21, 22, 33, 34, 36, 39, 40, 42, 43, 46, 49, 50, 51, 53, 56, 57, 58, 59, 61, 63, 65, 66, 67, 69, 70, 71, 99, 100}\n"
     ]
    }
   ],
   "source": [
    "print(coverage_tracker.covered_lines)"
   ]
  },
  {
   "cell_type": "markdown",
   "id": "c15b138f-1766-4e8c-9b0e-2d1016e6159f",
   "metadata": {},
   "source": [
    "`RunnerStatus` – перечисляемый тип для результата выполнения целевой функции"
   ]
  },
  {
   "cell_type": "code",
   "execution_count": 15,
   "id": "fc36a52b-c739-4d34-aa6e-091c49e955a6",
   "metadata": {},
   "outputs": [],
   "source": [
    "class RunnerStatus(Enum):\n",
    "    SUCCESS = \"SUCCESS\"\n",
    "    FAILED = \"FAILED\""
   ]
  },
  {
   "cell_type": "markdown",
   "id": "b29e5ed0-458c-47bb-80f4-045b8edefe68",
   "metadata": {},
   "source": [
    "`Runner` – класс для запуска целевой функции"
   ]
  },
  {
   "cell_type": "code",
   "execution_count": 16,
   "id": "779120cf-75ce-4fad-b1ed-5202f9d05a79",
   "metadata": {},
   "outputs": [],
   "source": [
    "class Runner:\n",
    "    def __init__(self: Self, *, target: Callable[..., Any]) -> None:\n",
    "        self.target = target\n",
    "        self.coverage = CoverageTacker(function=self.target)\n",
    "\n",
    "    def run_function(self: Self, *args, **kwargs) -> Any:\n",
    "        return self.target(*args, **kwargs)\n",
    "\n",
    "    def run_coverage(self: Self, *args, **kwargs) -> Any:\n",
    "        return self.coverage.run_with_args(*args, **kwargs)\n",
    "\n",
    "    def run(self: Self, *args, **kwargs) -> tuple[Any, RunnerStatus]:\n",
    "        status = RunnerStatus.SUCCESS\n",
    "        result = None\n",
    "        try:\n",
    "            result = self.run_coverage(*args, **kwargs)\n",
    "        except Exception as exception:\n",
    "            status = RunnerStatus.FAILED\n",
    "\n",
    "        return result, status"
   ]
  },
  {
   "cell_type": "markdown",
   "id": "b5d5d0de-e20c-44d0-b6f5-cba05f4ef8c6",
   "metadata": {},
   "source": [
    "__Пример__"
   ]
  },
  {
   "cell_type": "code",
   "execution_count": 17,
   "id": "9b9ad2db-6cd6-4a01-9c5e-f64105bd69ec",
   "metadata": {},
   "outputs": [],
   "source": [
    "runner = Runner(target=custom_parse)"
   ]
  },
  {
   "cell_type": "code",
   "execution_count": 18,
   "id": "d61d7550-b6c7-4ab9-8f49-c746ca295e90",
   "metadata": {},
   "outputs": [
    {
     "data": {
      "text/plain": [
       "({'abc': 123}, <RunnerStatus.SUCCESS: 'SUCCESS'>)"
      ]
     },
     "execution_count": 18,
     "metadata": {},
     "output_type": "execute_result"
    }
   ],
   "source": [
    "runner.run(valid_json)"
   ]
  },
  {
   "cell_type": "markdown",
   "id": "65f396eb-72a0-4f3a-80c3-678a1bd31741",
   "metadata": {},
   "source": [
    "`DerivationTreeNode` – класс узела дерева вывода"
   ]
  },
  {
   "cell_type": "code",
   "execution_count": 19,
   "id": "e76d01a6-23aa-4031-841e-2a0d6c79ecba",
   "metadata": {},
   "outputs": [],
   "source": [
    "class DerivationTreeNode:\n",
    "    def __init__(self, value, children=None):\n",
    "        self.value = value\n",
    "        self.children = children if children is not None else []\n",
    "    \n",
    "    def all_terminals(self):\n",
    "        if not self.children:\n",
    "            return self.value\n",
    "\n",
    "        return \"\".join(child.all_terminals() for child in self.children if child.value != \"<EOF>\")\n",
    "\n",
    "    def deep_copy(self):\n",
    "        copied_children = [child.deep_copy() for child in self.children]\n",
    "        return DerivationTreeNode(self.value, copied_children)"
   ]
  },
  {
   "cell_type": "markdown",
   "id": "134f7b3e-bd8f-4b0f-ba29-225c636a9d10",
   "metadata": {},
   "source": [
    "`DerivationTree` – класс дерева вывода"
   ]
  },
  {
   "cell_type": "code",
   "execution_count": 20,
   "id": "73fa3c13-1fca-409f-8adc-f5fca8962cdd",
   "metadata": {},
   "outputs": [],
   "source": [
    "class DerivationTree:\n",
    "    def __init__(self, root: DerivationTreeNode):\n",
    "        self.root = root\n",
    "\n",
    "    def get_root(self):\n",
    "        return self.root\n",
    "    \n",
    "    def all_terminals(self):\n",
    "        return self.root.all_terminals()\n",
    "\n",
    "    def tree_to_string(self):\n",
    "        return self._tree_to_string(self.root)\n",
    "\n",
    "    def _tree_to_string(self, node):\n",
    "        symbol = node.value\n",
    "        children = node.children\n",
    "\n",
    "        if children:\n",
    "            return \"\".join(self._tree_to_string(child) for child in children)\n",
    "        else:\n",
    "            return \"\" if is_non_terminal(symbol) else symbol"
   ]
  },
  {
   "cell_type": "markdown",
   "id": "61bfe072-bd01-4f30-9990-e581a5ba5ab8",
   "metadata": {},
   "source": [
    "`ASTToDerivationTreeConverter` – класс для преобразования абстрактного синтаксического дерева в дерево вывода"
   ]
  },
  {
   "cell_type": "code",
   "execution_count": 21,
   "id": "38510579-d292-4627-be13-9d3662a3dcad",
   "metadata": {},
   "outputs": [],
   "source": [
    "class ASTToDerivationTreeConverter:\n",
    "    @staticmethod\n",
    "    def convert(ast_root):\n",
    "        root = ASTToDerivationTreeConverter.convert_node(ast_root)\n",
    "        return DerivationTree(root)\n",
    "\n",
    "    @staticmethod\n",
    "    def convert_node(node):\n",
    "        if isinstance(node, TerminalNode):\n",
    "            value = node.getText()\n",
    "        else:\n",
    "            value = f\"<{node.__class__.__name__.replace('Context', '').lower()}>\"\n",
    "\n",
    "        children = [ASTToDerivationTreeConverter.convert_node(node.getChild(i)) for i in range(node.getChildCount())]\n",
    "\n",
    "        return DerivationTreeNode(value, children)"
   ]
  },
  {
   "cell_type": "markdown",
   "id": "8dc93a73-e0cd-408a-a536-742a40796eea",
   "metadata": {},
   "source": [
    "`DerivationTreePrinter` – класс для преобразования абстрактного синтаксического дерева в дерево вывода"
   ]
  },
  {
   "cell_type": "code",
   "execution_count": 22,
   "id": "07f4eb09-4be7-4cf1-b52f-b4d2ddb00efc",
   "metadata": {},
   "outputs": [],
   "source": [
    "class DerivationTreePrinter:\n",
    "    @staticmethod\n",
    "    def print_tree(tree):\n",
    "        DerivationTreePrinter.print_node(tree.root.value, tree.root.children, 0)\n",
    "\n",
    "    @staticmethod\n",
    "    def print_tree_from_node(node):\n",
    "        DerivationTreePrinter.print_node(node.value, node.children, 0)\n",
    "\n",
    "    @staticmethod\n",
    "    def print_node(symbol, children, level):\n",
    "        indent = \"  \" * level\n",
    "        print(f\"{indent}{symbol}\")\n",
    "\n",
    "        if children:\n",
    "            for child in children:\n",
    "                DerivationTreePrinter.print_node(child.value, child.children, level + 1)"
   ]
  },
  {
   "cell_type": "markdown",
   "id": "9fa2447f-0715-465a-9c23-850258f9dfff",
   "metadata": {},
   "source": [
    "__Работа с парсером__"
   ]
  },
  {
   "cell_type": "code",
   "execution_count": 23,
   "id": "6fdda1ce-7390-4cc8-8d06-beb5553d1b4b",
   "metadata": {},
   "outputs": [
    {
     "data": {
      "text/plain": [
       "'(json (value (obj { (pair \"abc\" : (value 123)) })) <EOF>)'"
      ]
     },
     "execution_count": 23,
     "metadata": {},
     "output_type": "execute_result"
    }
   ],
   "source": [
    "lexer = JSONLexer(InputStream(valid_json))\n",
    "tokens = CommonTokenStream(lexer)\n",
    "parser = JSONParser(tokens)\n",
    "tree = parser.json()\n",
    "tree.toStringTree(recog=parser)"
   ]
  },
  {
   "cell_type": "code",
   "execution_count": 24,
   "id": "7d878e2d-122c-48af-b7d5-28a57f46395d",
   "metadata": {},
   "outputs": [
    {
     "name": "stdout",
     "output_type": "stream",
     "text": [
      "<json>\n",
      "  <value>\n",
      "    <obj>\n",
      "      {\n",
      "      <pair>\n",
      "        \"abc\"\n",
      "        :\n",
      "        <value>\n",
      "          123\n",
      "      }\n",
      "  <EOF>\n"
     ]
    }
   ],
   "source": [
    "derivationTree = ASTToDerivationTreeConverter.convert(tree)\n",
    "DerivationTreePrinter.print_tree(derivationTree)"
   ]
  },
  {
   "cell_type": "markdown",
   "id": "632e3efc-f333-4858-8902-b4300977d93a",
   "metadata": {},
   "source": [
    "`StructuralIndividual` – класс для описания индивида популяции"
   ]
  },
  {
   "cell_type": "code",
   "execution_count": 25,
   "id": "1b81bd81-02d4-42dd-8973-b1e45f9edfba",
   "metadata": {},
   "outputs": [],
   "source": [
    "class StructuralIndividual:\n",
    "    def __init__(\n",
    "        self: Self,\n",
    "        *,\n",
    "        data: str,\n",
    "        coverage: frozenset[int] = set(),\n",
    "        energy: int = 0\n",
    "    ) -> None:\n",
    "        self.data = data\n",
    "        self.coverage = coverage\n",
    "        self.energy = energy\n",
    "\n",
    "        self.has_structure = False\n",
    "        self.structure = DerivationTreeNode(\"<empty>\", [])\n",
    "\n",
    "    def __hash__(self: Self) -> int:\n",
    "        return hash(frozenset(self.data))\n",
    "\n",
    "    def __eq__(self: Self, other: Any) -> bool:\n",
    "        if not isinstance(other, StructuralIndividual):\n",
    "            return NotImplemented\n",
    "        return self.data == other.data\n",
    "\n",
    "    def __repr__(self: Self) -> str:\n",
    "        return (\n",
    "                    f\"StructuralIndividual(\"\n",
    "                    f\"data={self.data}, \"\n",
    "                    f\"coverage={self.coverage}, \"\n",
    "                    f\"energy={self.energy}, \"\n",
    "                    f\"has_stucture={self.has_structure}, \"\n",
    "                    f\"stucture={self.structure})\"\n",
    "                )"
   ]
  },
  {
   "cell_type": "markdown",
   "id": "49260539-fd1b-4bc8-aaea-f8682090ae3c",
   "metadata": {},
   "source": [
    "__Пример__"
   ]
  },
  {
   "cell_type": "code",
   "execution_count": 26,
   "id": "0834815d-ff09-4533-b639-b0dfd0073c82",
   "metadata": {},
   "outputs": [
    {
     "data": {
      "text/plain": [
       "StructuralIndividual(data={\"abc\": 123}, coverage=set(), energy=0, has_stucture=False, stucture=<__main__.DerivationTreeNode object at 0x7fc8bb63ba90>)"
      ]
     },
     "execution_count": 26,
     "metadata": {},
     "output_type": "execute_result"
    }
   ],
   "source": [
    "StructuralIndividual(data=valid_json)"
   ]
  },
  {
   "cell_type": "markdown",
   "id": "e8e952ea-3d78-4893-b617-36cbf264ba3d",
   "metadata": {},
   "source": [
    "`FuzzParser` – класс для работы с парсером"
   ]
  },
  {
   "cell_type": "code",
   "execution_count": 27,
   "id": "46f0fc27-29c8-4846-b8d4-79b9f0ae566e",
   "metadata": {},
   "outputs": [],
   "source": [
    "class FuzzParser:\n",
    "    @staticmethod\n",
    "    def parse(_input: str) -> DerivationTreeNode:\n",
    "        char_stream = InputStream(_input)\n",
    "        lexer = JSONLexer(char_stream)\n",
    "        tokens = CommonTokenStream(lexer)\n",
    "        parser = JSONParser(tokens)\n",
    "        tree = parser.json()\n",
    "        derivation_tree = ASTToDerivationTreeConverter.convert(tree)\n",
    "        return derivation_tree.root"
   ]
  },
  {
   "cell_type": "markdown",
   "id": "6ae436d6-214b-443c-8678-e963413e09b1",
   "metadata": {},
   "source": [
    "__Пример__"
   ]
  },
  {
   "cell_type": "code",
   "execution_count": 28,
   "id": "5d49418a-1a36-4f65-ae91-ae4cc2fab3d6",
   "metadata": {},
   "outputs": [
    {
     "name": "stdout",
     "output_type": "stream",
     "text": [
      "<json>\n",
      "  <value>\n",
      "    <obj>\n",
      "      {\n",
      "      <pair>\n",
      "        \"abc\"\n",
      "        :\n",
      "        <value>\n",
      "          123\n",
      "      }\n",
      "  <EOF>\n"
     ]
    }
   ],
   "source": [
    "DerivationTreePrinter.print_tree_from_node(FuzzParser.parse(valid_json))"
   ]
  },
  {
   "cell_type": "markdown",
   "id": "283d8173-81dd-4e20-bff3-292a68971c6a",
   "metadata": {},
   "source": [
    "`FragmentMutator` – класс для создания мутаций с помощью фрагментов"
   ]
  },
  {
   "cell_type": "code",
   "execution_count": 29,
   "id": "d1f70e58-1849-4bcc-9eab-ffe885741ae9",
   "metadata": {},
   "outputs": [],
   "source": [
    "class FragmentMutator:\n",
    "    def __init__(self, parser: Parser, tokens: set[str]) -> None:\n",
    "        self.parser = parser\n",
    "        self.tokens = tokens\n",
    "        self.fragments = {f\"<{rule.lower()}>\": [] for rule in parser.ruleNames}\n",
    "        self.seen_seeds = []\n",
    "        self.to_swap = 0\n",
    "        self.to_delete = 0\n",
    "\n",
    "    def add_fragment(self, fragment):\n",
    "        symbol = fragment.value\n",
    "        children = fragment.children\n",
    "        if not self.is_excluded(symbol):\n",
    "            self.fragments[symbol].append(fragment)\n",
    "            if children:\n",
    "                for subfragment in children:\n",
    "                    self.add_fragment(subfragment)\n",
    "    \n",
    "    def is_excluded(self, symbol):\n",
    "        return (symbol not in self.fragments or\n",
    "                symbol in self.tokens or\n",
    "                not is_non_terminal(symbol))\n",
    "\n",
    "    def add_to_fragment_pool(self, seed):\n",
    "        try:\n",
    "            parsed = self.exec_task(seed.data)\n",
    "            seed.structure = parsed\n",
    "            self.add_fragment(seed.structure)\n",
    "            seed.has_structure = True\n",
    "        except Exception:\n",
    "            seed.has_structure = False\n",
    "\n",
    "    def exec_task(self, data):\n",
    "        with ThreadPoolExecutor(max_workers=1) as executor:\n",
    "            future = executor.submit(FuzzParser.parse, data)\n",
    "            try:\n",
    "                return future.result(timeout=0.2)\n",
    "            except TimeoutError:\n",
    "                raise\n",
    "\n",
    "    def mutate(self, seed):\n",
    "        if seed not in self.seen_seeds:\n",
    "            self.seen_seeds.append(seed)\n",
    "            self.add_to_fragment_pool(seed)\n",
    "\n",
    "        \n",
    "        return self.delete_fragment(seed)\n",
    "        if choice([True, False]):\n",
    "            return self.swap_fragment(seed)\n",
    "        else:\n",
    "            return self.delete_fragment(seed)\n",
    "\n",
    "\n",
    "    def count_nodes(self, fragment):\n",
    "        symbol = fragment.value\n",
    "        children = fragment.children\n",
    "        if self.is_excluded(symbol):\n",
    "            return 0\n",
    "\n",
    "        value = 1 + sum(self.count_nodes(child) for child in children or [])\n",
    "        return value\n",
    "\n",
    "    def recursive_swap(self, fragment):\n",
    "        symbol = fragment.value\n",
    "        children = fragment.children\n",
    "\n",
    "        if self.is_excluded(symbol):\n",
    "            return DerivationTreeNode(symbol, children)\n",
    "\n",
    "        self.to_swap -= 1\n",
    "        if self.to_swap == 0:\n",
    "            return choice( self.fragments[symbol])\n",
    "\n",
    "        new_children = [self.recursive_swap(child) for child in children or []]\n",
    "        return DerivationTreeNode(symbol, new_children)\n",
    "\n",
    "    def swap_fragment(self, seed):\n",
    "        if seed.has_structure:\n",
    "            n_nodes = self.count_nodes(seed.structure)\n",
    "\n",
    "            self.to_swap = randint(2, n_nodes)\n",
    "\n",
    "            new_structure = self.recursive_swap(seed.structure)\n",
    "\n",
    "            new_seed = StructuralIndividual(data=new_structure.all_terminals())\n",
    "            new_seed.has_structure = True\n",
    "            new_seed.structure = new_structure\n",
    "            return new_seed\n",
    "\n",
    "        return seed\n",
    "\n",
    "    def recursive_delete(self, fragment):\n",
    "        symbol = fragment.value\n",
    "        children = fragment.children\n",
    "\n",
    "        if self.is_excluded(symbol):\n",
    "            return DerivationTreeNode(symbol, children)\n",
    "\n",
    "        self.to_delete -= 1\n",
    "        if self.to_delete == 0:\n",
    "            return self.empty_node(symbol)\n",
    "\n",
    "        new_children = [self.recursive_delete(child) for child in children or []]\n",
    "        return DerivationTreeNode(symbol, new_children)\n",
    "\n",
    "\n",
    "    def delete_fragment(self, seed):\n",
    "        if seed.has_structure:\n",
    "            n_nodes = self.count_nodes(seed.structure)\n",
    "\n",
    "            self.to_delete = randint(2, n_nodes)\n",
    "            new_structure = self.recursive_delete(seed.structure)\n",
    "\n",
    "            new_seed = StructuralIndividual(data=new_structure.all_terminals())\n",
    "            new_seed.has_structure = True\n",
    "            new_seed.structure = new_structure\n",
    "\n",
    "            if not new_seed.data:\n",
    "                return seed\n",
    "            return new_seed\n",
    "\n",
    "        return seed\n",
    "\n",
    "    def empty_node(self, symbol: str) -> DerivationTreeNode:\n",
    "        if symbol == \"<pair>\":\n",
    "            return DerivationTreeNode(symbol, [DerivationTreeNode('\"\"', []), DerivationTreeNode(\": \", []),\n",
    "                                               DerivationTreeNode('\"\"', [])])\n",
    "        elif symbol == \"<arr>\":\n",
    "            return DerivationTreeNode(symbol, [DerivationTreeNode(\"[\", []), DerivationTreeNode(\"]\", [])])\n",
    "\n",
    "        return DerivationTreeNode(symbol, [DerivationTreeNode('\"\"', [])])"
   ]
  },
  {
   "cell_type": "markdown",
   "id": "82cd5d37-d8de-4b95-905a-4cff3087ca8b",
   "metadata": {},
   "source": [
    "__Пример__"
   ]
  },
  {
   "cell_type": "code",
   "execution_count": 30,
   "id": "e8595ab6-50bf-4015-af03-e9167d5d2453",
   "metadata": {},
   "outputs": [],
   "source": [
    "fragment_mutator = FragmentMutator(parser, {});"
   ]
  },
  {
   "cell_type": "code",
   "execution_count": 31,
   "id": "26aa063d-9853-4eec-a26e-e23cf2102873",
   "metadata": {},
   "outputs": [],
   "source": [
    "mutant = fragment_mutator.mutate(StructuralIndividual(data=valid_json))"
   ]
  },
  {
   "cell_type": "code",
   "execution_count": 32,
   "id": "30ca0e08-9901-42d0-8fc4-a51374aa038a",
   "metadata": {},
   "outputs": [
    {
     "name": "stdout",
     "output_type": "stream",
     "text": [
      "<json>\n",
      "|-{\"abc\":123}\n",
      "<obj>\n",
      "|-{\"abc\":123}\n",
      "<pair>\n",
      "|-\"abc\":123\n",
      "<arr>\n",
      "<value>\n",
      "|-{\"abc\":123}\n",
      "|-123\n"
     ]
    }
   ],
   "source": [
    "for key in fragment_mutator.fragments:\n",
    "    print(key)\n",
    "    for f in fragment_mutator.fragments[key]:\n",
    "        print(f\"|-{f.all_terminals()}\")"
   ]
  },
  {
   "cell_type": "markdown",
   "id": "1b64dd05-c47b-4347-9403-7c45adff92e3",
   "metadata": {},
   "source": [
    "`Mutator` – класс для создания мутаций на уровне \"строк\""
   ]
  },
  {
   "cell_type": "code",
   "execution_count": 33,
   "id": "3966a672-297d-4d63-80a0-5b4c980e732f",
   "metadata": {},
   "outputs": [],
   "source": [
    "class Mutator:\n",
    "    @staticmethod    \n",
    "    def append(individual: StructuralIndividual) -> StructuralIndividual:\n",
    "        individual = deepcopy(individual)\n",
    "        data = individual.data + choice(printable)\n",
    "\n",
    "        try: \n",
    "            json_loads(data)\n",
    "            individual.data = data\n",
    "        except JSONDecodeError:\n",
    "            pass\n",
    "\n",
    "        return individual\n",
    "\n",
    "    @staticmethod\n",
    "    def delete_last_character(individual: StructuralIndividual) -> StructuralIndividual:\n",
    "        individual = deepcopy(individual)\n",
    "        data = individual.data[:-1]\n",
    "\n",
    "        try:\n",
    "            json_loads(data)\n",
    "            individual.data = data\n",
    "        except JSONDecodeError:\n",
    "            pass\n",
    "\n",
    "        return individual\n",
    "\n",
    "    @staticmethod\n",
    "    def insert(individual: StructuralIndividual) -> StructuralIndividual:\n",
    "        individual = deepcopy(individual)\n",
    "        index = randint(0, len(individual.data))\n",
    "        data = individual.data[:index] + choice(printable) + individual.data[index:]\n",
    "\n",
    "        try:\n",
    "            json_loads(data)\n",
    "            individual.data = data\n",
    "        except JSONDecodeError:\n",
    "            pass\n",
    "\n",
    "        return individual\n",
    "\n",
    "    def mutate(self: Self, individual: StructuralIndividual) -> StructuralIndividual:\n",
    "        mutant = choice([\n",
    "            self.append,\n",
    "            self.delete_last_character,\n",
    "            self.insert,\n",
    "        ])(individual)\n",
    "        return mutant"
   ]
  },
  {
   "cell_type": "markdown",
   "id": "a9b5610a-e08a-437a-b15f-d2fd467edfcf",
   "metadata": {},
   "source": [
    "__Пример__"
   ]
  },
  {
   "cell_type": "code",
   "execution_count": 34,
   "id": "41072575-6fd0-413b-9968-c0e0c1e381f4",
   "metadata": {},
   "outputs": [
    {
     "data": {
      "text/plain": [
       "StructuralIndividual(data={\"abc\": \t123}, coverage=set(), energy=0, has_stucture=False, stucture=<__main__.DerivationTreeNode object at 0x7fc8bb6b3c90>)"
      ]
     },
     "execution_count": 34,
     "metadata": {},
     "output_type": "execute_result"
    }
   ],
   "source": [
    "mutator = Mutator()\n",
    "mutator.mutate(StructuralIndividual(data=valid_json))"
   ]
  },
  {
   "cell_type": "markdown",
   "id": "bf49a3c6-89fe-4794-b3e6-5a167d4e9cd2",
   "metadata": {},
   "source": [
    "`DeltaDebugger` – класс сокращения вывода с использованием метода \"Delta debugging\""
   ]
  },
  {
   "cell_type": "code",
   "execution_count": 35,
   "id": "a1198e25-1982-4b06-a0b0-a6e875721083",
   "metadata": {},
   "outputs": [],
   "source": [
    "class DeltaDebugger:\n",
    "    def __init__(self, function: Callable[[str], None]) -> None:\n",
    "        self.function = function\n",
    "\n",
    "    def test_and_continue(self, data: str) -> bool:\n",
    "        try:\n",
    "            self.function(data)\n",
    "            return True\n",
    "        except ValueError as exception:\n",
    "            if str(exception) == \"BUG\":\n",
    "                return True\n",
    "            return False\n",
    "\n",
    "    def reduce_structure(self, data: Any) -> Any:\n",
    "        if isinstance(data, list):\n",
    "            return self.reduce_list(data)\n",
    "        elif isinstance(data, dict):\n",
    "            return self.reduce_object(data)\n",
    "        else:\n",
    "            return data\n",
    "    \n",
    "    def reduce_list(self, data: list[Any]) -> list[Any]:\n",
    "        n = 2\n",
    "        while len(data) > 1:\n",
    "            chunks = [data[i::n] for i in range(n)]\n",
    "            reduced = False\n",
    "\n",
    "            for chunk in chunks:\n",
    "                candidate = dumps(chunk)\n",
    "                if self.test_and_continue(candidate):\n",
    "                    data = chunk\n",
    "                    reduced = True\n",
    "                    break\n",
    "\n",
    "            if not reduced:\n",
    "                for i in range(len(chunks)):\n",
    "                    candidate = [\n",
    "                        item for j, chunk in enumerate(chunks) if j != i for item in chunk\n",
    "                    ]\n",
    "                    if self.test_and_continue(dumps(candidate)):\n",
    "                        data = candidate\n",
    "                        reduced = True\n",
    "                        break\n",
    "\n",
    "            if not reduced:\n",
    "                break\n",
    "\n",
    "            n = min(len(data), n * 2)\n",
    "\n",
    "        return [self.reduce_structure(item) for item in data]\n",
    "\n",
    "    def reduce_object(self, obj: dict[Any, Any]) -> dict[Any, Any]:\n",
    "        keys = list(obj.keys())\n",
    "        n = 2\n",
    "        while len(keys) > 1:\n",
    "            chunks = [keys[i::n] for i in range(n)]\n",
    "            reduced = False\n",
    "\n",
    "            for chunk in chunks:\n",
    "                candidate = {key: obj[key] for key in chunk}\n",
    "                if self.test_and_continue(dumps(candidate)):\n",
    "                    keys = chunk\n",
    "                    reduced = True\n",
    "                    break\n",
    "\n",
    "            if not reduced:\n",
    "                for i in range(len(chunks)):\n",
    "                    candidate_keys = [\n",
    "                        key for j, chunk in enumerate(chunks) if j != i for key in chunk\n",
    "                    ]\n",
    "                    candidate = {key: obj[key] for key in candidate_keys}\n",
    "                    if self.test_and_continue(dumps(candidate)):\n",
    "                        keys = candidate_keys\n",
    "                        reduced = True\n",
    "                        break\n",
    "\n",
    "            if not reduced:\n",
    "                break\n",
    "\n",
    "            n = min(len(keys), n * 2)\n",
    "\n",
    "        return {key: self.reduce_structure(value) for key, value in obj.items()}\n",
    "\n",
    "    def run(self, data: str) -> str:\n",
    "        try:\n",
    "            parsed_json = json_loads(data)\n",
    "        except JSONDecodeError:\n",
    "            raise ValueError(\"Input string must be valid JSON\")\n",
    "\n",
    "        reduced = self.reduce_structure(parsed_json)\n",
    "        return dumps(reduced)"
   ]
  },
  {
   "cell_type": "markdown",
   "id": "c0618d5c-d29f-4ab9-ae0e-4eb364c7f1b3",
   "metadata": {},
   "source": [
    "__Пример__"
   ]
  },
  {
   "cell_type": "code",
   "execution_count": 36,
   "id": "0a579bdf-03a4-426f-9130-dc25c7dfe166",
   "metadata": {},
   "outputs": [],
   "source": [
    "delta_debugger = DeltaDebugger(failed_parse)"
   ]
  },
  {
   "cell_type": "code",
   "execution_count": 37,
   "id": "f92db2e1-9941-41ba-8f30-d0171aa0fa55",
   "metadata": {},
   "outputs": [
    {
     "data": {
      "text/plain": [
       "'{\"values\": [1]}'"
      ]
     },
     "execution_count": 37,
     "metadata": {},
     "output_type": "execute_result"
    }
   ],
   "source": [
    "delta_debugger.run('{\"values\": [1, 2, 3]}')"
   ]
  },
  {
   "cell_type": "markdown",
   "id": "c7ef2530-89de-4fc2-90ac-d5cf54430588",
   "metadata": {},
   "source": [
    "`GreyboxGrammarFuzzer` – класс для запуска процесса фаззинга на основе покрытия с использованием грамматик"
   ]
  },
  {
   "cell_type": "code",
   "execution_count": 38,
   "id": "720fdd80-7aec-471d-817b-eb6a9e3fb5e3",
   "metadata": {},
   "outputs": [],
   "source": [
    "class GreyboxGrammarFuzzer:\n",
    "    def __init__(\n",
    "        self: Self,\n",
    "        *,\n",
    "        target: Callable[..., Any],\n",
    "        seed: set[StructuralIndividual],\n",
    "        mutator: Mutator,\n",
    "        fragment_mutator: FragmentMutator,\n",
    "        min_mutations: int,\n",
    "        max_mutations: int,\n",
    "        tries: int,\n",
    "        exponent: float = 1.0,\n",
    "        delta_debugging: bool = False,\n",
    "    ) -> None:\n",
    "        self.target = target\n",
    "        self.seed = seed\n",
    "        self.min_mutations = min_mutations\n",
    "        self.max_mutations = max_mutations\n",
    "        self.tries = tries\n",
    "        self.exponent = exponent\n",
    "\n",
    "        self.stats = defaultdict(lambda: 0)\n",
    "        self.failing_inputs = set()\n",
    "\n",
    "        self.runner = Runner(target=target)\n",
    "        self.population = set()\n",
    "        self.paths_frequency = defaultdict(lambda: 0)\n",
    "\n",
    "        self.covered_lines = set()\n",
    "        self.coverage_history = []\n",
    "\n",
    "        self.mutator = mutator\n",
    "        self.fragment_mutator = fragment_mutator\n",
    "\n",
    "        self.delta_debugging = delta_debugging\n",
    "        self.delta_debugger = DeltaDebugger(target)\n",
    "\n",
    "        self.init()\n",
    "\n",
    "    def choose(self: Self) -> StructuralIndividual:\n",
    "        energies = (individual.energy for individual in self.population)\n",
    "        return choices(list(self.population), weights=energies)[0]\n",
    "\n",
    "    @staticmethod\n",
    "    def energy_distribution(frequency: int, exponent: float) -> float:\n",
    "        return 1 / pow(frequency, exponent)\n",
    "    \n",
    "    def assign_energy(self: Self) -> None:\n",
    "        for individual in self.population:\n",
    "            frequency = self.paths_frequency[individual.coverage]\n",
    "            individual.energy = self.energy_distribution(frequency, self.exponent)\n",
    "\n",
    "    def create_candidate(self: Self) -> StructuralIndividual:\n",
    "        candidate = self.choose()\n",
    "\n",
    "        mutations_count = randint(self.min_mutations, self.max_mutations)\n",
    "        for _ in range(mutations_count):\n",
    "            candidate = self.fragment_mutator.mutate(candidate)\n",
    "\n",
    "        if candidate.has_structure is False or choice([True, False]):\n",
    "            dumb_trials = randint(self.min_mutations, self.max_mutations)\n",
    "            for _ in range(dumb_trials):\n",
    "                candidate = self.mutator.mutate(candidate)\n",
    "                \n",
    "        return candidate\n",
    "\n",
    "    def _run(self: Self, individual: StructuralIndividual) -> RunnerStatus:\n",
    "        _, result = self.runner.run(individual.data)\n",
    "        path = frozenset(self.runner.coverage.covered_lines)\n",
    "\n",
    "        for line in self.runner.coverage.covered_lines:\n",
    "            if line not in self.covered_lines:\n",
    "                self.covered_lines.add(line)\n",
    "\n",
    "        self.coverage_history.append(len(self.covered_lines))\n",
    "        \n",
    "        if path in self.paths_frequency:\n",
    "            self.paths_frequency[path] += 1\n",
    "        else:\n",
    "            self.paths_frequency[path] = 1\n",
    "            data = self.delta_debugger.run(individual.data) if self.delta_debugging else individual.data\n",
    "            new_seed = StructuralIndividual(data=data, coverage=path)\n",
    "            fragment_mutator.add_to_fragment_pool(new_seed)\n",
    "            self.population.add(new_seed)\n",
    "\n",
    "        self.stats[result] += 1\n",
    "        if result is RunnerStatus.FAILED:\n",
    "            self.failing_inputs.add(individual.data)\n",
    "\n",
    "        return result\n",
    "\n",
    "    def init(self: Self) -> None:\n",
    "        for individual in self.seed:\n",
    "            self._run(individual)\n",
    "\n",
    "    def run(self: Self) -> None:\n",
    "        self.assign_energy()\n",
    "        individual = self.create_candidate()\n",
    "        result = self._run(individual)\n",
    "\n",
    "    def fuzz(self: Self) -> None:\n",
    "        for _ in tqdm(range(self.tries)):\n",
    "            self.run()"
   ]
  },
  {
   "cell_type": "markdown",
   "id": "ada2c7eb-202f-419f-ac87-51c884c2f50c",
   "metadata": {},
   "source": [
    "__Расчёты__"
   ]
  },
  {
   "cell_type": "markdown",
   "id": "fd5b1167-00ac-41e7-a7b8-f09abd753610",
   "metadata": {},
   "source": [
    "__Без__ использования Delta debugging'а"
   ]
  },
  {
   "cell_type": "code",
   "execution_count": 39,
   "id": "956c60ab-0778-4428-99f3-5c6e285c4c2a",
   "metadata": {},
   "outputs": [],
   "source": [
    "initial_seed = {\n",
    "    StructuralIndividual(data='{\"abc\": 123, \"123\": 123}'),\n",
    "    StructuralIndividual(data='{\"abc1\": {\"abc2\": [10]}, \"abc2\": false}'),\n",
    "    StructuralIndividual(data='[2, 3]'),\n",
    "    StructuralIndividual(data='{\"values\": {\"1\": 10, \"2\": [20, 30, 40]}}')\n",
    "}"
   ]
  },
  {
   "cell_type": "code",
   "execution_count": 40,
   "id": "19c8d571-4f6e-4e08-8ba7-6e8b8095edad",
   "metadata": {},
   "outputs": [],
   "source": [
    "greybox_grammar_fuzzer_without_delta_debugging = GreyboxGrammarFuzzer(\n",
    "                                                    target=failed_parse,\n",
    "                                                    seed=initial_seed,\n",
    "                                                    mutator=mutator,\n",
    "                                                    fragment_mutator=fragment_mutator,\n",
    "                                                    min_mutations=3,\n",
    "                                                    max_mutations=5,\n",
    "                                                    tries=500_000,\n",
    "                                                    delta_debugging=False,\n",
    "                                                )"
   ]
  },
  {
   "cell_type": "code",
   "execution_count": 41,
   "id": "41f51e2b-f762-4f5e-9e64-4324ba688923",
   "metadata": {},
   "outputs": [
    {
     "data": {
      "application/vnd.jupyter.widget-view+json": {
       "model_id": "ceb73eacf4b64138985274daacc4c809",
       "version_major": 2,
       "version_minor": 0
      },
      "text/plain": [
       "  0%|          | 0/500000 [00:00<?, ?it/s]"
      ]
     },
     "metadata": {},
     "output_type": "display_data"
    }
   ],
   "source": [
    "greybox_grammar_fuzzer_without_delta_debugging.fuzz()"
   ]
  },
  {
   "cell_type": "code",
   "execution_count": 42,
   "id": "1551ddda-1f48-4a7a-8c97-81d6917f00dc",
   "metadata": {},
   "outputs": [
    {
     "data": {
      "image/png": "[encoded data removed]",
      "text/plain": [
       "<Figure size 640x480 with 1 Axes>"
      ]
     },
     "metadata": {},
     "output_type": "display_data"
    }
   ],
   "source": [
    "stats = greybox_grammar_fuzzer_without_delta_debugging.stats\n",
    "x = list(map(lambda status: status.value, stats.keys()))\n",
    "y = list(stats.values())\n",
    "\n",
    "fig, ax = plt.subplots()\n",
    "ax.yaxis.get_major_formatter().set_scientific(False)\n",
    "ax.yaxis.get_major_formatter().set_useOffset(False)\n",
    "plt.title(\"Greybox Grammar Fuzzer (без использования Delta debugging'а): Распределение результатов\")\n",
    "\n",
    "for index in range(len(x)):\n",
    "    plt.text(index, y[index] + 5000, y[index], ha=\"center\")\n",
    "\n",
    "plt.bar(x, y)\n",
    "plt.show()"
   ]
  },
  {
   "cell_type": "code",
   "execution_count": 43,
   "id": "f3ddacf8-9bb3-456f-af55-6bcd60cc3b57",
   "metadata": {},
   "outputs": [
    {
     "name": "stdout",
     "output_type": "stream",
     "text": [
      "Найденные данные:\n",
      "=================\n",
      "\n",
      "{'[1]', '[1]\\r'}\n"
     ]
    }
   ],
   "source": [
    "title = \"Найденные данные:\"\n",
    "\n",
    "print(title)\n",
    "print(len(title)*\"=\", end=\"\\n\\n\")\n",
    "\n",
    "print(greybox_grammar_fuzzer_without_delta_debugging.failing_inputs)"
   ]
  },
  {
   "cell_type": "code",
   "execution_count": 44,
   "id": "25e0f4d8-4fdd-47e0-bd36-2442b9730487",
   "metadata": {},
   "outputs": [
    {
     "data": {
      "image/png": "[encoded data removed]",
      "text/plain": [
       "<Figure size 640x480 with 1 Axes>"
      ]
     },
     "metadata": {},
     "output_type": "display_data"
    }
   ],
   "source": [
    "plt.title(\"Greybox Grammar Fuzzer (без использования Delta debugging'а): Покрытие по итерациям\")\n",
    "plt.plot(greybox_grammar_fuzzer_without_delta_debugging.coverage_history)\n",
    "plt.xlabel(\"Количество итераций\")\n",
    "plt.ylabel(\"Количество покрытых строк\")\n",
    "plt.show()"
   ]
  },
  {
   "cell_type": "code",
   "execution_count": 45,
   "id": "2c6cc8b5-1444-4372-98d0-f54353e71cf9",
   "metadata": {},
   "outputs": [
    {
     "name": "stdout",
     "output_type": "stream",
     "text": [
      "Итоговая популяция:\n",
      "===================\n",
      "\n",
      "{\"abc1\":{\"abc2\":[]},\"abc2\":false}\n",
      "{\"valueis\":{\"1\":\"\",\"2\":[\"\",\"\",\"\"]}}\n",
      "{\"abc1\":{\"abc2\":[\"\"]},\"abc2\":false}\n",
      "[2, 3]\n",
      "[1]\n",
      "[4]\n",
      "{\"values\":{\"1\":10,\"2\":\"\"}}\n",
      "{\"\": \"\"}\n",
      "{\"abc1\":{\"abc2\":[\"\"]},\"abc2\":\"\"}\n",
      "{\"abc1\": {\"abc2\": [10]}, \"abc2\": false}\n",
      "{\"valueis\":{\"1\":10,\"2\":[]}}\n",
      "[\"\"]\n",
      "{\"valueis\":{\"1\":10,\"2\":[\"\",\"\",40]}}\n",
      "[2,\"\"]\n",
      "\"\"\n",
      "{\"values\":{\"1\":10,\"2\":[3]}}\n",
      "{\"abc1\":{\"abc2\":[\"\"]},\"\": \"\"}\n",
      "{\"abc15\":{\"abc2\":[10]},\"\": \"\"}\n",
      "{\"\": \"\",\"123\":12.3}\n",
      "{\"values\": {\"1\": 10, \"2\": [20, 30, 40]}}\n",
      "{\"values\":{\"\":\"\",\"2\":\"\"}}\n",
      "{\"\": \"\",\"abc2\":false}\n",
      "\"QL\"\n",
      "{\"abc\": 123, \"123\": 123}\n",
      "{\"\":\"q\"}\n",
      "{\"\": \"\",\"\": \"\"}\n",
      "{\"vcalues\":{\"\": \"\",\"I2\":[]}}\n",
      "[\"\",\"\"]\n",
      "[]\n"
     ]
    }
   ],
   "source": [
    "title = \"Итоговая популяция:\"\n",
    "\n",
    "print(title)\n",
    "print(len(title)*\"=\", end=\"\\n\\n\")\n",
    "\n",
    "for seed in greybox_grammar_fuzzer_without_delta_debugging.population:\n",
    "    print(seed.data)"
   ]
  },
  {
   "cell_type": "markdown",
   "id": "0ceddd37-c023-41de-854b-fdc3d05adeba",
   "metadata": {},
   "source": [
    "__С__ использованием Delta debugging'а"
   ]
  },
  {
   "cell_type": "code",
   "execution_count": 46,
   "id": "bd929bd1-fca2-45ff-b14c-3d37dc5a0245",
   "metadata": {},
   "outputs": [],
   "source": [
    "greybox_grammar_fuzzer_with_delta_debugging = GreyboxGrammarFuzzer(\n",
    "                                                    target=failed_parse,\n",
    "                                                    seed=initial_seed,\n",
    "                                                    mutator=mutator,\n",
    "                                                    fragment_mutator=fragment_mutator,\n",
    "                                                    min_mutations=3,\n",
    "                                                    max_mutations=5,\n",
    "                                                    tries=500_000,\n",
    "                                                    delta_debugging=True,\n",
    "                                                )"
   ]
  },
  {
   "cell_type": "code",
   "execution_count": 47,
   "id": "1ae75a96-2a49-4e5a-bb4f-708d46a71a90",
   "metadata": {},
   "outputs": [
    {
     "data": {
      "application/vnd.jupyter.widget-view+json": {
       "model_id": "04a7ce331e6b49b580ed4a5ea0a38285",
       "version_major": 2,
       "version_minor": 0
      },
      "text/plain": [
       "  0%|          | 0/500000 [00:00<?, ?it/s]"
      ]
     },
     "metadata": {},
     "output_type": "display_data"
    }
   ],
   "source": [
    "greybox_grammar_fuzzer_with_delta_debugging.fuzz()"
   ]
  },
  {
   "cell_type": "code",
   "execution_count": 48,
   "id": "d92143cb-120d-4730-a514-92609b07153e",
   "metadata": {},
   "outputs": [
    {
     "data": {
      "image/png": "[encoded data removed]",
      "text/plain": [
       "<Figure size 640x480 with 1 Axes>"
      ]
     },
     "metadata": {},
     "output_type": "display_data"
    }
   ],
   "source": [
    "stats = greybox_grammar_fuzzer_with_delta_debugging.stats\n",
    "x = list(map(lambda status: status.value, stats.keys()))\n",
    "y = list(stats.values())\n",
    "\n",
    "fig, ax = plt.subplots()\n",
    "ax.yaxis.get_major_formatter().set_scientific(False)\n",
    "ax.yaxis.get_major_formatter().set_useOffset(False)\n",
    "plt.title(\"Greybox Grammar Fuzzer (c использованием Delta debugging'а): Распределение результатов\")\n",
    "\n",
    "for index in range(len(x)):\n",
    "    plt.text(index, y[index] + 5000, y[index], ha=\"center\")\n",
    "\n",
    "plt.bar(x, y)\n",
    "plt.show()"
   ]
  },
  {
   "cell_type": "code",
   "execution_count": 49,
   "id": "fe2c24a5-df34-4535-8a72-b57ae52ab0eb",
   "metadata": {},
   "outputs": [
    {
     "name": "stdout",
     "output_type": "stream",
     "text": [
      "Найденные данные:\n",
      "=================\n",
      "\n",
      "{'[1]', '[1]\\r', '[1]\\t', '[1\\r]'}\n"
     ]
    }
   ],
   "source": [
    "title = \"Найденные данные:\"\n",
    "\n",
    "print(title)\n",
    "print(len(title)*\"=\", end=\"\\n\\n\")\n",
    "\n",
    "print(greybox_grammar_fuzzer_with_delta_debugging.failing_inputs)"
   ]
  },
  {
   "cell_type": "code",
   "execution_count": 50,
   "id": "8cca2501-7193-43b6-b375-cd51ce1b2189",
   "metadata": {},
   "outputs": [
    {
     "data": {
      "image/png": "[encoded data removed]",
      "text/plain": [
       "<Figure size 640x480 with 1 Axes>"
      ]
     },
     "metadata": {},
     "output_type": "display_data"
    }
   ],
   "source": [
    "plt.title(\"Greybox Grammar Fuzzer (с использованием Delta debugging'а): Покрытие по итерациям\")\n",
    "plt.plot(greybox_grammar_fuzzer_with_delta_debugging.coverage_history)\n",
    "plt.xlabel(\"Количество итераций\")\n",
    "plt.ylabel(\"Количество покрытых строк\")\n",
    "plt.show()"
   ]
  },
  {
   "cell_type": "code",
   "execution_count": 51,
   "id": "cf4090bb-308f-4c47-8a80-7d618f6360ba",
   "metadata": {},
   "outputs": [
    {
     "name": "stdout",
     "output_type": "stream",
     "text": [
      "Итоговая популяция:\n",
      "===================\n",
      "\n",
      "{\"abc1\": {\"abc2\": [10]}, \"abc2\": \"\"}\n",
      "{\"abc1\": {\"abc2\": [\"\"]}, \"abc2\": false}\n",
      "{\"abc1\": {\"abc2\": []}, \"abc2\": false}\n",
      "{\"x\": \"\"}\n",
      "[1]\n",
      "{\"values\": {\"1\": 10, \"2\": []}}\n",
      "{\"values\": {\"1\": 10, \"2\": [20]}}\n",
      "[9]\n",
      "{\"\": \"\"}\n",
      "{\"abc1\": {\"abc2\": [10]}, \"abc2\": false}\n",
      "[\"\"]\n",
      "\"\"\n",
      "{\")abc\": \"\", \"123\": 1.23}\n",
      "{\"values\": {\"\": \"\", \"2\": []}}\n",
      "{\"values\": {\"\": \"\", \"2\": [\"\"]}}\n",
      "{\"\": \"\", \"abc2\": false}\n",
      "{\"abc\": 123, \"123\": 123}\n",
      "[2]\n",
      "{\"abc\": 123, \"\": \"\"}\n",
      "[]\n"
     ]
    }
   ],
   "source": [
    "title = \"Итоговая популяция:\"\n",
    "\n",
    "print(title)\n",
    "print(len(title)*\"=\", end=\"\\n\\n\")\n",
    "\n",
    "for seed in greybox_grammar_fuzzer_with_delta_debugging.population:\n",
    "    print(seed.data)"
   ]
  }
 ],
 "metadata": {
  "kernelspec": {
   "display_name": "Python 3 (ipykernel)",
   "language": "python",
   "name": "python3"
  },
  "language_info": {
   "codemirror_mode": {
    "name": "ipython",
    "version": 3
   },
   "file_extension": ".py",
   "mimetype": "text/x-python",
   "name": "python",
   "nbconvert_exporter": "python",
   "pygments_lexer": "ipython3",
   "version": "3.11.3"
  }
 },
 "nbformat": 4,
 "nbformat_minor": 5
}
